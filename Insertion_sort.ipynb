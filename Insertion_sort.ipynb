{
 "cells": [
  {
   "cell_type": "markdown",
   "metadata": {},
   "source": [
    "# Insertion Sort"
   ]
  },
  {
   "cell_type": "code",
   "execution_count": 3,
   "metadata": {},
   "outputs": [],
   "source": [
    "arr = [3, 1, 4, 6, 2]"
   ]
  },
  {
   "cell_type": "code",
   "execution_count": 43,
   "metadata": {},
   "outputs": [],
   "source": [
    "def insertion_sort(arr):\n",
    "    for key in range(1, len(arr)):\n",
    "        for i in range(0, key):\n",
    "            if arr[key-i-1] > arr[key-i]:\n",
    "                tmp_swap = arr[key-i-1]\n",
    "                arr[key-i-1] = arr[key-i]\n",
    "                arr[key-i] = tmp_swap\n",
    "    return arr"
   ]
  },
  {
   "cell_type": "code",
   "execution_count": 44,
   "metadata": {},
   "outputs": [
    {
     "name": "stdout",
     "output_type": "stream",
     "text": [
      "[1, 2, 3, 4, 6]\n"
     ]
    }
   ],
   "source": [
    "print(insertion_sort(arr))"
   ]
  },
  {
   "cell_type": "markdown",
   "metadata": {},
   "source": [
    "# Notes\n",
    "\n",
    "1. Best suitable for almost sorted arrays with one or two displaced items.\n",
    "2. Inplace sorting algorithm so space requirement is limited\n",
    "3. Worst case complexity O(n2)\n",
    "4. Average complexity is O(n2)\n",
    "5. Not so performant on large arrays \n",
    "6. Can be improved little bit with `Binary search insertion algorithm`. When comparing a key with the previous, already sorted array, binary search apporiach can be used to decrease number of comparisons from O(i) to O(logi). But average complexity will remain O(n2)."
   ]
  },
  {
   "cell_type": "markdown",
   "metadata": {},
   "source": [
    "# Binary search insertion sort"
   ]
  },
  {
   "cell_type": "code",
   "execution_count": 106,
   "metadata": {},
   "outputs": [],
   "source": [
    "import math"
   ]
  },
  {
   "cell_type": "code",
   "execution_count": 151,
   "metadata": {},
   "outputs": [],
   "source": [
    "def binary_search(arr, left, right, val):\n",
    "    if left > right:\n",
    "        return right+1\n",
    "    \n",
    "    mid_index = math.floor((left+right)/2)    \n",
    "    mid = arr[mid_index]\n",
    "        \n",
    "    if mid > val:\n",
    "        return binary_search(arr, left, mid_index-1, val)\n",
    "    elif mid < val:\n",
    "        return binary_search(arr, mid_index+1, right, val)\n",
    "    elif mid == val:\n",
    "        return mid_index+1"
   ]
  },
  {
   "cell_type": "code",
   "execution_count": 159,
   "metadata": {
    "scrolled": true
   },
   "outputs": [
    {
     "data": {
      "text/plain": [
       "2"
      ]
     },
     "execution_count": 159,
     "metadata": {},
     "output_type": "execute_result"
    }
   ],
   "source": [
    "binary_search([3,1,4,7,2], 0, 1, 4)\n",
    "\n",
    "\n",
    "# 3,1,4,7,2 -> 0\n",
    "# 1,3,4,7,2\n",
    "# 1,3,4,7,2\n",
    "# 1,3,4,7,2     -> swapping only two items is not enough, whole rest of the array should be shifter by swaps\n",
    "#   1,3,4,2,7\n",
    "#   1,3,2,4,7\n",
    "#   1,2,3,4,7"
   ]
  },
  {
   "cell_type": "code",
   "execution_count": 167,
   "metadata": {},
   "outputs": [],
   "source": [
    "def bs_insertion_sort(arr):\n",
    "    for key in range(1, len(arr)): \n",
    "        item = arr[key]            \n",
    "        correct_place = binary_search(arr, 0, key-1, item)\n",
    "        if correct_place < key: \n",
    "#             print(correct_place)\n",
    "            for i in range(key, correct_place, -1):\n",
    "                tmp_swap = arr[i-1]\n",
    "                arr[i-1] = arr[i]\n",
    "                arr[i] = tmp_swap\n",
    "    return arr"
   ]
  },
  {
   "cell_type": "code",
   "execution_count": 168,
   "metadata": {},
   "outputs": [
    {
     "name": "stdout",
     "output_type": "stream",
     "text": [
      "[1, 2, 3, 4, 6]\n"
     ]
    }
   ],
   "source": [
    "print(bs_insertion_sort([3, 1, 4, 6, 2]))"
   ]
  },
  {
   "cell_type": "code",
   "execution_count": 169,
   "metadata": {},
   "outputs": [
    {
     "name": "stdout",
     "output_type": "stream",
     "text": [
      "[1, 2, 3, 6, 7, 11]\n"
     ]
    }
   ],
   "source": [
    "print(bs_insertion_sort([7,2,11,6,3,1]))"
   ]
  },
  {
   "cell_type": "code",
   "execution_count": 170,
   "metadata": {},
   "outputs": [
    {
     "name": "stdout",
     "output_type": "stream",
     "text": [
      "[3]\n"
     ]
    }
   ],
   "source": [
    "print(bs_insertion_sort([3]))"
   ]
  },
  {
   "cell_type": "code",
   "execution_count": 171,
   "metadata": {},
   "outputs": [
    {
     "name": "stdout",
     "output_type": "stream",
     "text": [
      "[1, 3]\n"
     ]
    }
   ],
   "source": [
    "print(bs_insertion_sort([3, 1]))"
   ]
  },
  {
   "cell_type": "code",
   "execution_count": 172,
   "metadata": {},
   "outputs": [
    {
     "name": "stdout",
     "output_type": "stream",
     "text": [
      "[1, 2]\n"
     ]
    }
   ],
   "source": [
    "print(bs_insertion_sort([1,2]))"
   ]
  },
  {
   "cell_type": "code",
   "execution_count": null,
   "metadata": {},
   "outputs": [],
   "source": []
  }
 ],
 "metadata": {
  "kernelspec": {
   "display_name": "Python 3",
   "language": "python",
   "name": "python3"
  },
  "language_info": {
   "codemirror_mode": {
    "name": "ipython",
    "version": 3
   },
   "file_extension": ".py",
   "mimetype": "text/x-python",
   "name": "python",
   "nbconvert_exporter": "python",
   "pygments_lexer": "ipython3",
   "version": "3.7.2"
  }
 },
 "nbformat": 4,
 "nbformat_minor": 2
}
